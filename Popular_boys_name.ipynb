{
 "cells": [
  {
   "cell_type": "markdown",
   "id": "ec09328b",
   "metadata": {},
   "source": [
    "### List comprehensions , JSON , Requests"
   ]
  },
  {
   "cell_type": "markdown",
   "id": "5974b306",
   "metadata": {},
   "source": [
    "**Porblem:**\n",
    "Found the popular boy babys name "
   ]
  },
  {
   "cell_type": "code",
   "execution_count": 8,
   "id": "274352e6",
   "metadata": {},
   "outputs": [],
   "source": [
    "import requests\n",
    "import json"
   ]
  },
  {
   "cell_type": "code",
   "execution_count": 2,
   "id": "9f764839",
   "metadata": {},
   "outputs": [],
   "source": [
    "url_json_file=\"https://raw.githubusercontent.com/aruljohn/popular-baby-names/master/2021/boy_names_2021.json\""
   ]
  },
  {
   "cell_type": "code",
   "execution_count": 4,
   "id": "6072104f",
   "metadata": {},
   "outputs": [],
   "source": [
    "response=requests.get(url_json_file)"
   ]
  },
  {
   "cell_type": "code",
   "execution_count": 11,
   "id": "5214709e",
   "metadata": {},
   "outputs": [
    {
     "data": {
      "text/plain": [
       "13701"
      ]
     },
     "execution_count": 11,
     "metadata": {},
     "output_type": "execute_result"
    }
   ],
   "source": [
    "open('boy_names.json','wb').write(response.content)"
   ]
  },
  {
   "cell_type": "code",
   "execution_count": 12,
   "id": "66c8d292",
   "metadata": {},
   "outputs": [],
   "source": [
    "json_file=open('boy_names.json','r')"
   ]
  },
  {
   "cell_type": "code",
   "execution_count": 13,
   "id": "371c5121",
   "metadata": {},
   "outputs": [],
   "source": [
    "names_list=json.load(json_file)"
   ]
  },
  {
   "cell_type": "code",
   "execution_count": 16,
   "id": "2d9c44dd",
   "metadata": {},
   "outputs": [],
   "source": [
    "lst=names_list['names']"
   ]
  },
  {
   "cell_type": "code",
   "execution_count": 22,
   "id": "7a92d94a",
   "metadata": {},
   "outputs": [
    {
     "data": {
      "text/plain": [
       "['Axel',\n",
       " 'Adam',\n",
       " 'Amir',\n",
       " 'Ace',\n",
       " 'Arlo',\n",
       " 'Alex',\n",
       " 'Abel',\n",
       " 'Alan',\n",
       " 'Ali',\n",
       " 'Ari',\n",
       " 'Adan',\n",
       " 'Andy',\n",
       " 'Asa',\n",
       " 'Ares',\n",
       " 'Amos',\n",
       " 'Aden',\n",
       " 'Alec',\n",
       " 'Aron',\n",
       " 'Avi',\n",
       " 'Axl',\n",
       " 'Ayan',\n",
       " 'Aldo']"
      ]
     },
     "execution_count": 22,
     "metadata": {},
     "output_type": "execute_result"
    }
   ],
   "source": [
    "[name for name in lst if name[0].lower()=='a' and len(name)<5]"
   ]
  },
  {
   "cell_type": "code",
   "execution_count": null,
   "id": "8eccb63d",
   "metadata": {},
   "outputs": [],
   "source": []
  }
 ],
 "metadata": {
  "kernelspec": {
   "display_name": "Python 3 (ipykernel)",
   "language": "python",
   "name": "python3"
  },
  "language_info": {
   "codemirror_mode": {
    "name": "ipython",
    "version": 3
   },
   "file_extension": ".py",
   "mimetype": "text/x-python",
   "name": "python",
   "nbconvert_exporter": "python",
   "pygments_lexer": "ipython3",
   "version": "3.10.6"
  }
 },
 "nbformat": 4,
 "nbformat_minor": 5
}
